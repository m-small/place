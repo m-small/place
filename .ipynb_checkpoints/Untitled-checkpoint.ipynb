{
 "cells": [
  {
   "cell_type": "code",
   "execution_count": 1,
   "id": "informational-macro",
   "metadata": {},
   "outputs": [],
   "source": [
    "using DifferentialEquations, Plots, StatsBase"
   ]
  },
  {
   "cell_type": "code",
   "execution_count": 2,
   "id": "answering-agreement",
   "metadata": {},
   "outputs": [
    {
     "data": {
      "text/plain": [
       "lorenz! (generic function with 1 method)"
      ]
     },
     "execution_count": 2,
     "metadata": {},
     "output_type": "execute_result"
    }
   ],
   "source": [
    "function lorenz!(du,u,p,t)\n",
    "    x,y,z = u\n",
    "    σ,ρ,β = p\n",
    "    \n",
    "    du[1] = dx = σ*(y-x)\n",
    "    du[2] = dy = x*(ρ-z) - y\n",
    "    du[3] = dz = x*y - β*z\n",
    "end"
   ]
  },
  {
   "cell_type": "code",
   "execution_count": 3,
   "id": "naughty-soccer",
   "metadata": {},
   "outputs": [
    {
     "ename": "LoadError",
     "evalue": "\u001b[91msyntax: extra token \")\" after end of expression\u001b[39m",
     "output_type": "error",
     "traceback": [
      "\u001b[91msyntax: extra token \")\" after end of expression\u001b[39m",
      "",
      "Stacktrace:",
      " [1] top-level scope at In[3]:9",
      " [2] include_string(::Function, ::Module, ::String, ::String) at ./loading.jl:1091"
     ]
    }
   ],
   "source": [
    "function doublepend!(du,u,p,t)\n",
    "    θ1,θ2,p1,p2 = u\n",
    "    m,l = p\n",
    "    g = 9.81\n",
    "    \n",
    "    Δθ = θ1-θ2\n",
    "    dθ1 = 6/(m*l^2) * (2*p1 - 3*cos(Δθ)*p2)/(16-9*cos(Δθ)^2)\n",
    "    dθ2 = 6/(m*l^2) * (8*p2 - 3*cos(Δθ)*p1)/(16-9*cos(Δθ)^2)\n",
    "    dp1 = -1/(2*m*l^2) * (dθ1*dθ2*sin(Δθ) + 3*g/l*sin(θ1))\n",
    "    dp2 = -1/(2*m*l^2) * (-dθ1*dθ2*sin(Δθ) + g/l*sin(θ2))\n",
    "    \n",
    "    du = dθ1,dθ2,dp1,dp2\n",
    "end"
   ]
  },
  {
   "cell_type": "code",
   "execution_count": null,
   "id": "minor-reservoir",
   "metadata": {},
   "outputs": [],
   "source": []
  }
 ],
 "metadata": {
  "kernelspec": {
   "display_name": "Julia 1.5.4",
   "language": "julia",
   "name": "julia-1.5"
  },
  "language_info": {
   "file_extension": ".jl",
   "mimetype": "application/julia",
   "name": "julia",
   "version": "1.5.4"
  }
 },
 "nbformat": 4,
 "nbformat_minor": 5
}
