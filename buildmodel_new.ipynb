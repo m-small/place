{
 "cells": [
  {
   "cell_type": "markdown",
   "metadata": {},
   "source": [
    "# Buildmodel\n",
    "\n",
    "Build nonlinear time series models from scalar time series data using minimum description length radila basis function formalism\n",
    "\n",
    "## Sample data\n",
    "\n",
    "First we generate some typical test data to play with"
   ]
  },
  {
   "cell_type": "code",
   "execution_count": null,
   "metadata": {},
   "outputs": [],
   "source": [
    "include(\"ChaosFunctions.jl\")"
   ]
  },
  {
   "cell_type": "code",
   "execution_count": null,
   "metadata": {},
   "outputs": [],
   "source": [
    "using Plots"
   ]
  },
  {
   "cell_type": "code",
   "execution_count": null,
   "metadata": {},
   "outputs": [],
   "source": [
    "z=lorenzpoints(5000,0.05)"
   ]
  },
  {
   "cell_type": "code",
   "execution_count": null,
   "metadata": {},
   "outputs": [],
   "source": [
    "plot(z[1,:],z[2,:],z[3,:])"
   ]
  },
  {
   "cell_type": "code",
   "execution_count": null,
   "metadata": {},
   "outputs": [],
   "source": [
    "z=rosslerpoints(5000,0.2)"
   ]
  },
  {
   "cell_type": "code",
   "execution_count": null,
   "metadata": {},
   "outputs": [],
   "source": [
    "plot(z[1,:],z[2,:],z[3,:])"
   ]
  },
  {
   "cell_type": "code",
   "execution_count": null,
   "metadata": {},
   "outputs": [],
   "source": [
    "z=itmap(tinkerbell,-[0.7, 0.6],10000)"
   ]
  },
  {
   "cell_type": "code",
   "execution_count": null,
   "metadata": {},
   "outputs": [],
   "source": [
    "plot(z[2,:],z[1,:],linetype=:dots)"
   ]
  },
  {
   "cell_type": "code",
   "execution_count": null,
   "metadata": {},
   "outputs": [],
   "source": [
    "zn=addnoise(z,0.05)"
   ]
  },
  {
   "cell_type": "code",
   "execution_count": null,
   "metadata": {},
   "outputs": [],
   "source": [
    "plot(zn[2,:],zn[1,:],linetype=:dots,markersize=0.1)"
   ]
  },
  {
   "cell_type": "code",
   "execution_count": null,
   "metadata": {},
   "outputs": [],
   "source": [
    "plot(zn[1,:],linetype=:dots,markersize=0.5)"
   ]
  },
  {
   "cell_type": "code",
   "execution_count": null,
   "metadata": {},
   "outputs": [],
   "source": [
    "z=itmap(logistic,1/π,10^4);"
   ]
  },
  {
   "cell_type": "code",
   "execution_count": null,
   "metadata": {},
   "outputs": [],
   "source": [
    "z=itmap(logistic,1/π,10^4);\n",
    "zn=addnoise(z,0.05)\n",
    "plot(zn[1:end-1],zn[2:end],linetype=:dots,markersize=0.1)"
   ]
  },
  {
   "cell_type": "markdown",
   "metadata": {},
   "source": [
    "## Build the model\n",
    "\n",
    "Import the modelling code, and away we go."
   ]
  },
  {
   "cell_type": "code",
   "execution_count": null,
   "metadata": {},
   "outputs": [],
   "source": [
    "include(\"BasisFunctionTypes.jl\")\n",
    "include(\"Place.jl\")"
   ]
  },
  {
   "cell_type": "markdown",
   "metadata": {},
   "source": [
    "Any valid inline function can be used as a penlaty function (it must operate on globally defined functions in `Place.topdown` and must return a scalar, the algorithm seeks a minimum of this function. Four useful examples follow (description length ala `Rissanen` requires extra computation in the main code to account for parameter precisions."
   ]
  },
  {
   "cell_type": "code",
   "execution_count": null,
   "metadata": {},
   "outputs": [],
   "source": [
    "#need to make these variables in scope of the current WS\n",
    "nx=Int64(length(z))\n",
    "mss=Float64(Inf)\n",
    "λ=Array{Float64,1}[]\n",
    "δ=Array{Float64,1}[]\n",
    "#valid penalty criteria\n",
    "Schwarz = :(nx*log(mss)+nk*log(nx))\n",
    "Akaike = :(nx*log(mss)+2*nk)\n",
    "Rissanen = :(description(mss,λ,δ,nx)) #Rissanen desciption length\n",
    "Model30 = :(-nk*(nk<=30))\n",
    "#nx is # of observation (length of data)\n",
    "#nk is # of parameters (basis functions in model)\n",
    "#mss is the mean-sum-square model prediction error\n",
    "#λ are the model parameters and δ their precisions"
   ]
  },
  {
   "cell_type": "markdown",
   "metadata": {},
   "source": [
    "Next, the dictionary `options` defined model structure and optional modelling parameters (it'll run a produce something even if `options` is empty, but it might be better to populate this somewhat intelligently. A useful example to model the (admittedly rather simple) logistic map is provided"
   ]
  },
  {
   "cell_type": "code",
   "execution_count": null,
   "metadata": {},
   "outputs": [],
   "source": [
    "options=Dict(\"stopstep\"=>10,\n",
    "    \"testdatum\"=> 8000,\n",
    "    \"functions\"=> (gaussian,tophat),\n",
    "    \"embedding\" => Place.vembed([0,1,2,3]),\n",
    " #   \"embedding\" => ([0, 1], [0, 1, 2, 3]),\n",
    "    \"penalty\"=> Rissanen,\n",
    "    \"nneighbours\"=> 1\n",
    "    )"
   ]
  },
  {
   "cell_type": "markdown",
   "metadata": {},
   "source": [
    "And, then, away we go..."
   ]
  },
  {
   "cell_type": "code",
   "execution_count": null,
   "metadata": {},
   "outputs": [],
   "source": [
    "mymodel, X, zout, mdlv = Place.buildmodel(zn,options)"
   ]
  },
  {
   "cell_type": "markdown",
   "metadata": {},
   "source": [
    "Modelling done, we can make one-step predictions on time series data"
   ]
  },
  {
   "cell_type": "code",
   "execution_count": null,
   "metadata": {},
   "outputs": [],
   "source": [
    "plot(mdlv)"
   ]
  },
  {
   "cell_type": "code",
   "execution_count": null,
   "metadata": {},
   "outputs": [],
   "source": [
    "yt,yp,ep = Place.predict(mymodel, z);"
   ]
  },
  {
   "cell_type": "code",
   "execution_count": null,
   "metadata": {},
   "outputs": [],
   "source": [
    "plot(yt,label=\"truth\")\n",
    "plot!(yp,label=\"predict\")\n",
    "plot!(ep,label=\"error\",xlimit=(0,500))"
   ]
  },
  {
   "cell_type": "markdown",
   "metadata": {},
   "source": [
    "Or, free run simulations"
   ]
  },
  {
   "cell_type": "code",
   "execution_count": null,
   "metadata": {},
   "outputs": [],
   "source": [
    "yp, yt = Place.freerun(mymodel,zn,500)"
   ]
  },
  {
   "cell_type": "code",
   "execution_count": null,
   "metadata": {},
   "outputs": [],
   "source": [
    "plot(yt)\n",
    "plot!(yp,ylimit=(0,1),xlimit=(0,500))\n"
   ]
  },
  {
   "cell_type": "code",
   "execution_count": null,
   "metadata": {},
   "outputs": [],
   "source": [
    "plot(yt[1:end-1],yt[2:end],linetype=:dots,markersize=0.1,label=\"test data\")\n",
    "plot!(yp[1:end-1],yp[2:end],linetype=:dots,markersize=1,label=\"model simulation\",title=\"attractor\")"
   ]
  },
  {
   "cell_type": "code",
   "execution_count": null,
   "metadata": {},
   "outputs": [],
   "source": [
    "z=lorenzpoints(5000,0.05)\n",
    "y=z[1,:]\n",
    "yn=addnoise(y,0.05)\n",
    "plot(yn,linetype=:dots,markersize=0.5,label=\"noisy data\")\n",
    "plot!(y,label=\"clean data\")"
   ]
  },
  {
   "cell_type": "code",
   "execution_count": null,
   "metadata": {},
   "outputs": [],
   "source": [
    "options=Dict(\"stopstep\"=>10,\n",
    "    \"testdatum\"=> 8000,\n",
    "    \"functions\"=> (gaussian,tophat),\n",
    "    \"embedding\" => Place.vembed([0,1,2,3,6,12]),\n",
    " #   \"embedding\" => ([0, 1], [0, 1, 2, 3]),\n",
    "    \"penalty\"=> Rissanen,\n",
    "    \"nneighbours\"=> 1\n",
    "    )"
   ]
  },
  {
   "cell_type": "code",
   "execution_count": null,
   "metadata": {},
   "outputs": [],
   "source": [
    "mymodel, X, zout, mdlv = Place.buildmodel(yn,options)"
   ]
  },
  {
   "cell_type": "code",
   "execution_count": null,
   "metadata": {},
   "outputs": [],
   "source": [
    "plot(mdlv)"
   ]
  },
  {
   "cell_type": "code",
   "execution_count": null,
   "metadata": {},
   "outputs": [],
   "source": [
    "yt,yp,ep = Place.predict(mymodel, yn);\n",
    "plot(yt,label=\"truth\")\n",
    "plot!(yp,label=\"predict\")\n",
    "plot!(ep,label=\"error\",xlimit=(0,500))"
   ]
  },
  {
   "cell_type": "code",
   "execution_count": null,
   "metadata": {},
   "outputs": [],
   "source": [
    "yp, yt = Place.freerun(mymodel,yn,500)\n",
    "plot(yt,label=\"test data\")\n",
    "plot!(yp,label=\"free-run prediction\")"
   ]
  },
  {
   "cell_type": "code",
   "execution_count": null,
   "metadata": {},
   "outputs": [],
   "source": [
    "plot(yt[1:end-6],yt[4:end-3],yt[7:end],linetype=:dots,markersize=1,label=\"test data\")\n",
    "plot!(yp[1:end-6],yp[4:end-3],yp[7:end],label=\"model simulation\",title=\"attractor\")"
   ]
  },
  {
   "cell_type": "markdown",
   "metadata": {},
   "source": [
    "## Michael Small\n",
    "\n",
    "Last updated today ... 21/12"
   ]
  },
  {
   "cell_type": "code",
   "execution_count": null,
   "metadata": {},
   "outputs": [],
   "source": []
  }
 ],
 "metadata": {
  "@webio": {
   "lastCommId": null,
   "lastKernelId": null
  },
  "kernelspec": {
   "display_name": "Julia 1.4.0",
   "language": "julia",
   "name": "julia-1.4"
  },
  "language_info": {
   "file_extension": ".jl",
   "mimetype": "application/julia",
   "name": "julia",
   "version": "1.4.0"
  }
 },
 "nbformat": 4,
 "nbformat_minor": 4
}
