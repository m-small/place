{
 "cells": [
  {
   "cell_type": "code",
   "execution_count": 2,
   "metadata": {},
   "outputs": [],
   "source": [
    "using DifferentialEquations\n"
   ]
  },
  {
   "cell_type": "code",
   "execution_count": 3,
   "metadata": {},
   "outputs": [
    {
     "data": {
      "text/plain": [
       "retcode: Success\n",
       "Interpolation: automatic order switching interpolation\n",
       "t: 5-element Array{Float64,1}:\n",
       " 0.0\n",
       " 0.10042494449239292\n",
       " 0.35218603951893646\n",
       " 0.6934436028208104\n",
       " 1.0\n",
       "u: 5-element Array{Float64,1}:\n",
       " 1.0\n",
       " 1.1034222047865465\n",
       " 1.4121908848175448\n",
       " 1.9730384275622996\n",
       " 2.664456142481451"
      ]
     },
     "execution_count": 3,
     "metadata": {},
     "output_type": "execute_result"
    }
   ],
   "source": [
    "f(u,p,t) = 0.98u\n",
    "u0 = 1.0\n",
    "tspan = (0.0,1.0)\n",
    "prob = ODEProblem(f,u0,tspan)\n",
    "sol=solve(prob)"
   ]
  },
  {
   "cell_type": "code",
   "execution_count": null,
   "metadata": {},
   "outputs": [],
   "source": [
    "\n",
    "function lorenz!(du,u,p,t)\n",
    "\t#standard Lorenz equations\n",
    "    x,y,z = u\n",
    "    σ,ρ,β = p\n",
    "    ####################\n",
    "    du[1] = dx = σ*(y-x)\n",
    "    du[2] = dy = x*(ρ-z) - y\n",
    "    du[3] = dz = x*y - β*z\n",
    "end\n",
    "\n",
    "param=[10.0, 28.0, 8/3]\n",
    "#transient for \"long enough\"\n",
    "u0 = [1.0;0.0;0.0]\n",
    "tspan = (0.0,1.0)\n",
    "prob = ODEProblem(lorenz!,u0,tspan,param)\n",
    "sol=solve(prob)\n"
   ]
  },
  {
   "cell_type": "code",
   "execution_count": null,
   "metadata": {},
   "outputs": [],
   "source": []
  }
 ],
 "metadata": {
  "kernelspec": {
   "display_name": "Julia 1.4.1",
   "language": "julia",
   "name": "julia-1.4"
  },
  "language_info": {
   "file_extension": ".jl",
   "mimetype": "application/julia",
   "name": "julia",
   "version": "1.4.1"
  }
 },
 "nbformat": 4,
 "nbformat_minor": 4
}
